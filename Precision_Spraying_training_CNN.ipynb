{
  "nbformat": 4,
  "nbformat_minor": 0,
  "metadata": {
    "colab": {
      "name": "Precision Spraying_training CNN.ipynb",
      "provenance": [],
      "collapsed_sections": []
    },
    "kernelspec": {
      "name": "python3",
      "display_name": "Python 3"
    },
    "language_info": {
      "name": "python"
    }
  },
  "cells": [
    {
      "cell_type": "markdown",
      "source": [
        "# **TRAINING MODEL**"
      ],
      "metadata": {
        "id": "S6H-9BlM6YSk"
      }
    },
    {
      "cell_type": "code",
      "source": [
        "get_ipython().system_raw(\"unrar x /content/Test.rar\")"
      ],
      "metadata": {
        "id": "8z9Gz8I9ZEb8"
      },
      "execution_count": null,
      "outputs": []
    },
    {
      "cell_type": "code",
      "source": [
        "get_ipython().system_raw(\"unrar x /content/Train.rar\")"
      ],
      "metadata": {
        "id": "dRegz8ZWZN-C"
      },
      "execution_count": null,
      "outputs": []
    },
    {
      "cell_type": "code",
      "source": [
        "import numpy as np\n",
        "import matplotlib.pyplot as plt\n",
        "import keras\n",
        "from keras.layers import Dense, Conv2D, MaxPool2D, Dropout, Flatten\n",
        "from keras.models import sequential\n",
        "from keras.preprocessing import image\n",
        "import cv2\n",
        "from PIL import Image"
      ],
      "metadata": {
        "id": "3fY2hAK3MKlt"
      },
      "execution_count": null,
      "outputs": []
    },
    {
      "cell_type": "code",
      "source": [
        "train_datagen= image.ImageDataGenerator(\n",
        "    rescale=1/255, horizontal_flip= True, zoom_range=0.2, shear_range=0.2\n",
        ")\n",
        "\n",
        "train_data=train_datagen.flow_from_directory(directory=\"/content/Train\", target_size= (256,256), batch_size= 1,\n",
        "                                             class_mode = 'binary'\n",
        "                                             )"
      ],
      "metadata": {
        "id": "0d0nHdQZMkLM",
        "colab": {
          "base_uri": "https://localhost:8080/"
        },
        "outputId": "1e5eba29-eae0-4292-fe95-fa12077fac91"
      },
      "execution_count": null,
      "outputs": [
        {
          "output_type": "stream",
          "name": "stdout",
          "text": [
            "Found 3250 images belonging to 2 classes.\n"
          ]
        }
      ]
    },
    {
      "cell_type": "code",
      "source": [
        "train_data.class_indices"
      ],
      "metadata": {
        "colab": {
          "base_uri": "https://localhost:8080/"
        },
        "id": "oKBaICNhPFq3",
        "outputId": "90ae62c0-fe11-41de-e6e9-2990b5e02ae5"
      },
      "execution_count": null,
      "outputs": [
        {
          "output_type": "execute_result",
          "data": {
            "text/plain": [
              "{'tobacco': 0, 'weed': 1}"
            ]
          },
          "metadata": {},
          "execution_count": 6
        }
      ]
    },
    {
      "cell_type": "code",
      "source": [
        "test_datagen= image.ImageDataGenerator(\n",
        "    rescale=1/255\n",
        ")\n",
        "\n",
        "test_data=test_datagen.flow_from_directory(directory=\"/content/Test\", target_size= (256,256), batch_size= 16,\n",
        "                                             class_mode = 'binary'\n",
        "                                             )"
      ],
      "metadata": {
        "colab": {
          "base_uri": "https://localhost:8080/"
        },
        "id": "eg_kUl9vPJM2",
        "outputId": "e1066604-b97e-4f84-b295-90788505d2a7"
      },
      "execution_count": null,
      "outputs": [
        {
          "output_type": "stream",
          "name": "stdout",
          "text": [
            "Found 350 images belonging to 2 classes.\n"
          ]
        }
      ]
    },
    {
      "cell_type": "code",
      "source": [
        "test_data.class_indices"
      ],
      "metadata": {
        "colab": {
          "base_uri": "https://localhost:8080/"
        },
        "id": "k7EbSvZ8PMa5",
        "outputId": "f3932da0-8148-4d12-d26e-d344bd37ecb3"
      },
      "execution_count": null,
      "outputs": [
        {
          "output_type": "execute_result",
          "data": {
            "text/plain": [
              "{'tobacco': 0, 'weed': 1}"
            ]
          },
          "metadata": {},
          "execution_count": 8
        }
      ]
    },
    {
      "cell_type": "code",
      "source": [
        "from keras.engine.sequential import Sequential\n",
        "\n",
        "from tensorflow.keras.optimizers import RMSprop\n",
        "\n",
        "model = Sequential()\n",
        "model.add(Conv2D(filters=32, kernel_size=(3,3), activation='relu', input_shape= (256,256,3)))\n",
        "model.add(Conv2D(filters=64, kernel_size=(3,3), activation='relu'))\n",
        "model.add(MaxPool2D())\n",
        "#model.add(Dropout(rate=0.25)) \n",
        "\n",
        "model.add(Conv2D(filters=64, kernel_size=(3,3), activation='relu'))\n",
        "model.add(MaxPool2D())\n",
        "#model.add(Dropout(rate=0.25)) \n",
        "\n",
        "model.add(Conv2D(filters=128, kernel_size=(3,3), activation='relu'))\n",
        "model.add(MaxPool2D())\n",
        "#model.add(Dropout(rate=0.25))\n",
        "\n",
        "model.add(Flatten())\n",
        "model.add(Dense(units=64, activation='relu'))\n",
        "#model.add(Dropout(rate=0.50))\n",
        "model.add(Dense(units=1, activation='sigmoid'))\n",
        "\n",
        "model.compile(loss='binary_crossentropy',\n",
        "             optimizer=RMSprop(lr=0.001),\n",
        "             metrics=['accuracy'])"
      ],
      "metadata": {
        "colab": {
          "base_uri": "https://localhost:8080/"
        },
        "id": "B-tJyoYuPPAC",
        "outputId": "b6d42d53-4531-47aa-abfa-4133769896af"
      },
      "execution_count": null,
      "outputs": [
        {
          "output_type": "stream",
          "name": "stderr",
          "text": [
            "/usr/local/lib/python3.7/dist-packages/keras/optimizer_v2/rmsprop.py:130: UserWarning: The `lr` argument is deprecated, use `learning_rate` instead.\n",
            "  super(RMSprop, self).__init__(name, **kwargs)\n"
          ]
        }
      ]
    },
    {
      "cell_type": "code",
      "source": [
        "model.summary()"
      ],
      "metadata": {
        "colab": {
          "base_uri": "https://localhost:8080/"
        },
        "id": "xSLV-F-pPXap",
        "outputId": "73cfd8d1-308f-4f53-eb37-d7736c723636"
      },
      "execution_count": null,
      "outputs": [
        {
          "output_type": "stream",
          "name": "stdout",
          "text": [
            "Model: \"sequential\"\n",
            "_________________________________________________________________\n",
            " Layer (type)                Output Shape              Param #   \n",
            "=================================================================\n",
            " conv2d (Conv2D)             (None, 254, 254, 32)      896       \n",
            "                                                                 \n",
            " conv2d_1 (Conv2D)           (None, 252, 252, 64)      18496     \n",
            "                                                                 \n",
            " max_pooling2d (MaxPooling2D  (None, 126, 126, 64)     0         \n",
            " )                                                               \n",
            "                                                                 \n",
            " conv2d_2 (Conv2D)           (None, 124, 124, 64)      36928     \n",
            "                                                                 \n",
            " max_pooling2d_1 (MaxPooling  (None, 62, 62, 64)       0         \n",
            " 2D)                                                             \n",
            "                                                                 \n",
            " conv2d_3 (Conv2D)           (None, 60, 60, 128)       73856     \n",
            "                                                                 \n",
            " max_pooling2d_2 (MaxPooling  (None, 30, 30, 128)      0         \n",
            " 2D)                                                             \n",
            "                                                                 \n",
            " flatten (Flatten)           (None, 115200)            0         \n",
            "                                                                 \n",
            " dense (Dense)               (None, 64)                7372864   \n",
            "                                                                 \n",
            " dense_1 (Dense)             (None, 1)                 65        \n",
            "                                                                 \n",
            "=================================================================\n",
            "Total params: 7,503,105\n",
            "Trainable params: 7,503,105\n",
            "Non-trainable params: 0\n",
            "_________________________________________________________________\n"
          ]
        }
      ]
    },
    {
      "cell_type": "code",
      "source": [
        "model.fit_generator(train_data, steps_per_epoch=10, epochs=50, validation_steps=2,\n",
        "                    validation_data=test_data)"
      ],
      "metadata": {
        "colab": {
          "base_uri": "https://localhost:8080/"
        },
        "id": "VaiUdEvqPagl",
        "outputId": "8ac302d0-5591-4f05-aaca-c57d229ea81d"
      },
      "execution_count": null,
      "outputs": [
        {
          "output_type": "stream",
          "name": "stdout",
          "text": [
            "Epoch 1/50\n"
          ]
        },
        {
          "output_type": "stream",
          "name": "stderr",
          "text": [
            "/usr/local/lib/python3.7/dist-packages/ipykernel_launcher.py:2: UserWarning: `Model.fit_generator` is deprecated and will be removed in a future version. Please use `Model.fit`, which supports generators.\n",
            "  \n"
          ]
        },
        {
          "output_type": "stream",
          "name": "stdout",
          "text": [
            "10/10 [==============================] - 7s 724ms/step - loss: 0.2376 - accuracy: 1.0000 - val_loss: 0.8899 - val_accuracy: 0.8438\n",
            "Epoch 2/50\n",
            "10/10 [==============================] - 7s 703ms/step - loss: 0.4963 - accuracy: 0.8000 - val_loss: 0.3711 - val_accuracy: 0.7188\n",
            "Epoch 3/50\n",
            "10/10 [==============================] - 7s 705ms/step - loss: 0.1555 - accuracy: 0.9000 - val_loss: 0.2774 - val_accuracy: 0.8125\n",
            "Epoch 4/50\n",
            "10/10 [==============================] - 7s 698ms/step - loss: 0.1583 - accuracy: 1.0000 - val_loss: 0.1582 - val_accuracy: 0.9062\n",
            "Epoch 5/50\n",
            "10/10 [==============================] - 7s 698ms/step - loss: 0.4403 - accuracy: 0.8000 - val_loss: 0.3135 - val_accuracy: 0.7812\n",
            "Epoch 6/50\n",
            "10/10 [==============================] - 7s 699ms/step - loss: 0.1534 - accuracy: 0.9000 - val_loss: 0.1920 - val_accuracy: 0.8438\n",
            "Epoch 7/50\n",
            "10/10 [==============================] - 7s 694ms/step - loss: 0.4248 - accuracy: 0.9000 - val_loss: 0.8642 - val_accuracy: 0.2812\n",
            "Epoch 8/50\n",
            "10/10 [==============================] - 8s 836ms/step - loss: 0.7301 - accuracy: 0.4000 - val_loss: 0.7789 - val_accuracy: 0.3750\n",
            "Epoch 9/50\n",
            "10/10 [==============================] - 7s 703ms/step - loss: 0.4818 - accuracy: 0.7000 - val_loss: 0.2873 - val_accuracy: 0.8125\n",
            "Epoch 10/50\n",
            "10/10 [==============================] - 8s 786ms/step - loss: 0.0837 - accuracy: 1.0000 - val_loss: 0.1969 - val_accuracy: 0.8750\n",
            "Epoch 11/50\n",
            "10/10 [==============================] - 7s 772ms/step - loss: 0.2675 - accuracy: 0.8000 - val_loss: 0.9943 - val_accuracy: 0.7500\n",
            "Epoch 12/50\n",
            "10/10 [==============================] - 7s 698ms/step - loss: 0.1341 - accuracy: 0.9000 - val_loss: 0.1517 - val_accuracy: 0.9375\n",
            "Epoch 13/50\n",
            "10/10 [==============================] - 7s 696ms/step - loss: 0.4432 - accuracy: 0.8000 - val_loss: 0.4241 - val_accuracy: 0.6875\n",
            "Epoch 14/50\n",
            "10/10 [==============================] - 7s 707ms/step - loss: 0.4982 - accuracy: 0.9000 - val_loss: 0.4081 - val_accuracy: 0.7188\n",
            "Epoch 15/50\n",
            "10/10 [==============================] - 7s 755ms/step - loss: 0.1116 - accuracy: 0.9000 - val_loss: 0.2638 - val_accuracy: 0.8125\n",
            "Epoch 16/50\n",
            "10/10 [==============================] - 7s 699ms/step - loss: 0.4823 - accuracy: 0.7000 - val_loss: 0.2814 - val_accuracy: 0.8438\n",
            "Epoch 17/50\n",
            "10/10 [==============================] - 7s 696ms/step - loss: 0.3735 - accuracy: 0.8000 - val_loss: 0.2854 - val_accuracy: 0.8438\n",
            "Epoch 18/50\n",
            "10/10 [==============================] - 7s 697ms/step - loss: 0.0513 - accuracy: 1.0000 - val_loss: 0.2231 - val_accuracy: 0.8750\n",
            "Epoch 19/50\n",
            "10/10 [==============================] - 7s 699ms/step - loss: 0.1632 - accuracy: 0.9000 - val_loss: 0.2501 - val_accuracy: 0.8438\n",
            "Epoch 20/50\n",
            "10/10 [==============================] - 7s 706ms/step - loss: 0.2307 - accuracy: 0.9000 - val_loss: 0.3811 - val_accuracy: 0.7500\n",
            "Epoch 21/50\n",
            "10/10 [==============================] - 7s 697ms/step - loss: 0.1608 - accuracy: 0.9000 - val_loss: 0.3340 - val_accuracy: 0.7500\n",
            "Epoch 22/50\n",
            "10/10 [==============================] - 7s 695ms/step - loss: 0.8471 - accuracy: 0.7000 - val_loss: 0.3659 - val_accuracy: 0.7812\n",
            "Epoch 23/50\n",
            "10/10 [==============================] - 7s 696ms/step - loss: 0.6585 - accuracy: 0.8000 - val_loss: 0.4172 - val_accuracy: 0.7188\n",
            "Epoch 24/50\n",
            "10/10 [==============================] - 7s 703ms/step - loss: 0.1248 - accuracy: 1.0000 - val_loss: 0.4599 - val_accuracy: 0.6875\n",
            "Epoch 25/50\n",
            "10/10 [==============================] - 7s 696ms/step - loss: 0.1547 - accuracy: 0.9000 - val_loss: 0.3090 - val_accuracy: 0.7812\n",
            "Epoch 26/50\n",
            "10/10 [==============================] - 7s 701ms/step - loss: 0.2368 - accuracy: 0.9000 - val_loss: 0.3421 - val_accuracy: 0.7812\n",
            "Epoch 27/50\n",
            "10/10 [==============================] - 7s 702ms/step - loss: 0.4942 - accuracy: 0.7000 - val_loss: 0.2977 - val_accuracy: 0.8125\n",
            "Epoch 28/50\n",
            "10/10 [==============================] - 7s 704ms/step - loss: 0.2875 - accuracy: 0.8000 - val_loss: 0.2228 - val_accuracy: 0.8750\n",
            "Epoch 29/50\n",
            "10/10 [==============================] - 7s 700ms/step - loss: 0.2291 - accuracy: 0.9000 - val_loss: 0.1759 - val_accuracy: 0.8438\n",
            "Epoch 30/50\n",
            "10/10 [==============================] - 7s 701ms/step - loss: 0.1548 - accuracy: 1.0000 - val_loss: 0.2546 - val_accuracy: 0.8750\n",
            "Epoch 31/50\n",
            "10/10 [==============================] - 7s 703ms/step - loss: 0.2290 - accuracy: 0.9000 - val_loss: 0.5106 - val_accuracy: 0.6562\n",
            "Epoch 32/50\n",
            "10/10 [==============================] - 7s 695ms/step - loss: 3.0360 - accuracy: 0.9000 - val_loss: 0.4831 - val_accuracy: 0.6250\n",
            "Epoch 33/50\n",
            "10/10 [==============================] - 7s 705ms/step - loss: 0.2664 - accuracy: 0.9000 - val_loss: 0.3708 - val_accuracy: 0.7500\n",
            "Epoch 34/50\n",
            "10/10 [==============================] - 7s 697ms/step - loss: 0.1297 - accuracy: 1.0000 - val_loss: 0.2105 - val_accuracy: 0.8438\n",
            "Epoch 35/50\n",
            "10/10 [==============================] - 7s 699ms/step - loss: 1.8028 - accuracy: 0.7000 - val_loss: 0.2934 - val_accuracy: 0.8438\n",
            "Epoch 36/50\n",
            "10/10 [==============================] - 7s 708ms/step - loss: 0.1605 - accuracy: 1.0000 - val_loss: 0.3919 - val_accuracy: 0.6562\n",
            "Epoch 37/50\n",
            "10/10 [==============================] - 8s 785ms/step - loss: 0.4727 - accuracy: 0.9000 - val_loss: 0.3393 - val_accuracy: 0.7812\n",
            "Epoch 38/50\n",
            "10/10 [==============================] - 7s 709ms/step - loss: 0.2619 - accuracy: 0.8000 - val_loss: 0.2300 - val_accuracy: 0.8750\n",
            "Epoch 39/50\n",
            "10/10 [==============================] - 7s 710ms/step - loss: 0.1810 - accuracy: 1.0000 - val_loss: 0.4088 - val_accuracy: 0.7500\n",
            "Epoch 40/50\n",
            "10/10 [==============================] - 7s 707ms/step - loss: 0.0869 - accuracy: 1.0000 - val_loss: 0.0999 - val_accuracy: 0.9688\n",
            "Epoch 41/50\n",
            "10/10 [==============================] - 7s 701ms/step - loss: 0.1846 - accuracy: 0.9000 - val_loss: 0.1526 - val_accuracy: 0.9062\n",
            "Epoch 42/50\n",
            "10/10 [==============================] - 7s 700ms/step - loss: 0.1546 - accuracy: 1.0000 - val_loss: 0.2314 - val_accuracy: 0.8750\n",
            "Epoch 43/50\n",
            "10/10 [==============================] - 7s 698ms/step - loss: 0.1545 - accuracy: 0.9000 - val_loss: 0.1681 - val_accuracy: 0.9375\n",
            "Epoch 44/50\n",
            "10/10 [==============================] - 7s 696ms/step - loss: 0.6269 - accuracy: 0.9000 - val_loss: 0.4131 - val_accuracy: 0.8750\n",
            "Epoch 45/50\n",
            "10/10 [==============================] - 7s 699ms/step - loss: 1.2046 - accuracy: 0.7000 - val_loss: 0.3566 - val_accuracy: 0.7812\n",
            "Epoch 46/50\n",
            "10/10 [==============================] - 7s 756ms/step - loss: 0.4801 - accuracy: 0.7000 - val_loss: 0.1729 - val_accuracy: 0.9062\n",
            "Epoch 47/50\n",
            "10/10 [==============================] - 7s 731ms/step - loss: 0.1800 - accuracy: 0.9000 - val_loss: 0.4166 - val_accuracy: 0.7500\n",
            "Epoch 48/50\n",
            "10/10 [==============================] - 7s 707ms/step - loss: 0.3575 - accuracy: 0.8000 - val_loss: 0.1368 - val_accuracy: 0.9688\n",
            "Epoch 49/50\n",
            "10/10 [==============================] - 7s 700ms/step - loss: 0.1544 - accuracy: 0.9000 - val_loss: 0.2945 - val_accuracy: 0.8125\n",
            "Epoch 50/50\n",
            "10/10 [==============================] - 7s 738ms/step - loss: 0.1680 - accuracy: 0.9000 - val_loss: 0.2504 - val_accuracy: 0.9375\n"
          ]
        },
        {
          "output_type": "execute_result",
          "data": {
            "text/plain": [
              "<keras.callbacks.History at 0x7fcf9b020cd0>"
            ]
          },
          "metadata": {},
          "execution_count": 18
        }
      ]
    },
    {
      "cell_type": "code",
      "source": [
        "model.save('my_model.h5')"
      ],
      "metadata": {
        "id": "209cni7b3Nqt"
      },
      "execution_count": null,
      "outputs": []
    },
    {
      "cell_type": "code",
      "source": [
        "import tensorflow as tf\n",
        "new_model = tf.keras.models.load_model('/content/my_model.h5')\n",
        "new_model.summary()"
      ],
      "metadata": {
        "colab": {
          "base_uri": "https://localhost:8080/"
        },
        "id": "zyItOiDs5mxv",
        "outputId": "de71434d-515f-4434-b73d-d42bd3d3fcb3"
      },
      "execution_count": 1,
      "outputs": [
        {
          "output_type": "stream",
          "name": "stdout",
          "text": [
            "Model: \"sequential\"\n",
            "_________________________________________________________________\n",
            " Layer (type)                Output Shape              Param #   \n",
            "=================================================================\n",
            " conv2d (Conv2D)             (None, 254, 254, 32)      896       \n",
            "                                                                 \n",
            " conv2d_1 (Conv2D)           (None, 252, 252, 64)      18496     \n",
            "                                                                 \n",
            " max_pooling2d (MaxPooling2D  (None, 126, 126, 64)     0         \n",
            " )                                                               \n",
            "                                                                 \n",
            " conv2d_2 (Conv2D)           (None, 124, 124, 64)      36928     \n",
            "                                                                 \n",
            " max_pooling2d_1 (MaxPooling  (None, 62, 62, 64)       0         \n",
            " 2D)                                                             \n",
            "                                                                 \n",
            " conv2d_3 (Conv2D)           (None, 60, 60, 128)       73856     \n",
            "                                                                 \n",
            " max_pooling2d_2 (MaxPooling  (None, 30, 30, 128)      0         \n",
            " 2D)                                                             \n",
            "                                                                 \n",
            " flatten (Flatten)           (None, 115200)            0         \n",
            "                                                                 \n",
            " dense (Dense)               (None, 64)                7372864   \n",
            "                                                                 \n",
            " dense_1 (Dense)             (None, 1)                 65        \n",
            "                                                                 \n",
            "=================================================================\n",
            "Total params: 7,503,105\n",
            "Trainable params: 7,503,105\n",
            "Non-trainable params: 0\n",
            "_________________________________________________________________\n"
          ]
        }
      ]
    }
  ]
}