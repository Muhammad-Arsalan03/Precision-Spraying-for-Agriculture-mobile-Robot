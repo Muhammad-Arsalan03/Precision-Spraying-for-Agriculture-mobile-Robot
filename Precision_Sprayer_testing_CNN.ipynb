{
  "nbformat": 4,
  "nbformat_minor": 0,
  "metadata": {
    "colab": {
      "name": "Precision_Sprayer_testing_CNN.ipynb",
      "private_outputs": true,
      "provenance": [],
      "collapsed_sections": []
    },
    "kernelspec": {
      "name": "python3",
      "display_name": "Python 3"
    },
    "language_info": {
      "name": "python"
    },
    "accelerator": "GPU",
    "gpuClass": "standard"
  },
  "cells": [
    {
      "cell_type": "markdown",
      "source": [
        "# **Testing our Trained CNN model**"
      ],
      "metadata": {
        "id": "Cx5f5diawxHW"
      }
    },
    {
      "cell_type": "code",
      "execution_count": null,
      "metadata": {
        "id": "lUwNR5DHthHN"
      },
      "outputs": [],
      "source": [
        "from PIL import Image\n",
        "import numpy as np\n",
        "import os \n",
        "import pandas as pd\n",
        "import matplotlib.pyplot as plt\n",
        "import cv2\n",
        "import keras\n",
        "from keras.preprocessing.image import load_img\n",
        "from keras.preprocessing.image import img_to_array\n",
        "from keras.preprocessing.image import array_to_img\n",
        "from keras.preprocessing import image\n",
        "from os import path"
      ]
    },
    {
      "cell_type": "code",
      "source": [
        "get_ipython().system_raw(\"unrar x /content/Test.rar\")"
      ],
      "metadata": {
        "id": "OywYP746uhbb"
      },
      "execution_count": null,
      "outputs": []
    },
    {
      "cell_type": "code",
      "source": [
        "get_ipython().system_raw(\"unrar x /content/evalute.rar\")"
      ],
      "metadata": {
        "id": "q0CW9pLNtnvV"
      },
      "execution_count": null,
      "outputs": []
    },
    {
      "cell_type": "code",
      "source": [
        "import tensorflow as tf\n",
        "new_model = tf.keras.models.load_model('/content/my_model.h5')\n",
        "new_model.summary()"
      ],
      "metadata": {
        "id": "FT4nOHjtwVAc"
      },
      "execution_count": null,
      "outputs": []
    },
    {
      "cell_type": "code",
      "source": [
        "dir_path =\"/content/evalute\"\n",
        "for i in os.listdir(dir_path): \n",
        "  import keras\n",
        "  from keras.preprocessing.image import load_img\n",
        "  from keras.preprocessing.image import img_to_array\n",
        "  from keras.preprocessing.image import array_to_img\n",
        "  from keras.preprocessing import image\n",
        "  #img = image.load_img(dir_path+'//'+ i)\n",
        "  image1= cv2.imread(dir_path+'//'+ i)\n",
        "  img= image.load_img(dir_path+'//'+ i, target_size=(256,256))\n",
        "  img=image.img_to_array(img)\n",
        "  img=np.array([img])/255\n",
        "  image = cv2.cvtColor(np.float32(image1),cv2.COLOR_BGR2RGB)\n",
        "  image = cv2.cvtColor(image, cv2.COLOR_RGB2HSV)\n",
        "  lower = [np.mean(image[:,:,i] - np.std(image[:,:,i])/3 ) for i in range(3)]\n",
        "  upper = [250, 250, 250]\n",
        "  lower = np.array(lower, dtype=\"uint8\")\n",
        "  upper = np.array(upper, dtype=\"uint8\")\n",
        "  mask = cv2.inRange(image, lower, upper)\n",
        "  output = cv2.bitwise_and(image, image, mask=mask)\n",
        "  ret,thresh = cv2.threshold(mask, 40, 255, 0)\n",
        "  contours, hierarchy = cv2.findContours(thresh, cv2.RETR_EXTERNAL, cv2.CHAIN_APPROX_NONE)\n",
        "  # find the biggest countour (c) by the area\n",
        "  c = max(contours, key = cv2.contourArea)\n",
        "  x,y,w,h = cv2.boundingRect(c)\n",
        "  # draw the biggest contour (c) in green\n",
        "  cv2.rectangle(output,(x,y),(x+w,y+h),(0,255,0),5)\n",
        "\n",
        "\n",
        "\n",
        "  Result=new_model.predict(img)\n",
        "  if Result <= 0.5: \n",
        "    print(\"Tobacco\")\n",
        "    cv2.putText(output, \"TOBACCO\", (x+20, y-20),cv2.FONT_HERSHEY_SIMPLEX,1, (0, 255, 0), 3) \n",
        "  else: \n",
        "    print(\"Weed\")\n",
        "    cv2.putText(output, \"weed\", (x+20, y-20),cv2.FONT_HERSHEY_SIMPLEX,1, (0, 255, 0), 3) \n",
        "\n",
        "  plt.figure(figsize=(20,4))\n",
        "  plt.subplot(1,3,1),plt.imshow(image1),plt.title(\"input\")\n",
        "  plt.subplot(1,3,2),plt.imshow(output),plt.title(\"Detection\")\n",
        "  plt.show()\n",
        "\n",
        "\n"
      ],
      "metadata": {
        "id": "fArwkCP2t-DD"
      },
      "execution_count": null,
      "outputs": []
    },
    {
      "cell_type": "code",
      "source": [
        ""
      ],
      "metadata": {
        "id": "DpmS_p-Ox_xv"
      },
      "execution_count": null,
      "outputs": []
    }
  ]
}