{
 "cells": [
  {
   "cell_type": "code",
   "execution_count": 1,
   "id": "3a2ece6e",
   "metadata": {},
   "outputs": [],
   "source": [
    "# Importing the libraries\n",
    "from PIL import Image\n",
    "import numpy as np\n",
    "import os \n",
    "import pandas as pd\n",
    "import matplotlib.pyplot as plt\n",
    "import cv2\n",
    "#import serial \n",
    "#Arduino_Serial=serial.Serial('com4',9600)\n"
   ]
  },
  {
   "cell_type": "code",
   "execution_count": null,
   "id": "e705e78b",
   "metadata": {},
   "outputs": [],
   "source": [
    "from tensorflow.keras.models import load_model\n",
    "new_model=load_model(\"my_model.h5\")"
   ]
  },
  {
   "cell_type": "code",
   "execution_count": null,
   "id": "b8cebdf3",
   "metadata": {},
   "outputs": [],
   "source": [
    "# Doing some Face Recognition with the webcam\n",
    "video_capture = cv2.VideoCapture(0)\n",
    "while True:  \n",
    "    # Read the frame  \n",
    "    _, imgR = video_capture.read()  \n",
    "    # Convert to grayscale  \n",
    "    image1 = cv2.cvtColor(imgR, cv2.COLOR_BGR2RGB)\n",
    "    image = cv2.cvtColor(image1, cv2.COLOR_RGB2HSV)\n",
    "    (h,w)=image.shape[:2]\n",
    "    cx,cy=(w//2),(h//2)\n",
    "    left=image1[0:h,0:cx]\n",
    "    right=image1[0:h,cx:w]\n",
    "    imgR=cv2.rectangle(imgR,(0,0),(cx,h),(0,255,0),3)\n",
    "    imgR=cv2.rectangle(imgR,(cx+5,0),(w,h),(255,0,0),3)\n",
    "    lower = [np.mean(image[:,:,i] - np.std(image[:,:,i])/3 ) for i in range(3)]\n",
    "    upper = [250, 250, 250]\n",
    "    lower = np.array(lower, dtype=\"uint8\")\n",
    "    upper = np.array(upper, dtype=\"uint8\")\n",
    "    mask = cv2.inRange(image, lower, upper)\n",
    "    output = cv2.bitwise_and(image, image, mask=mask)\n",
    "    ret,thresh = cv2.threshold(mask, 40, 255, 0)\n",
    "    contours, hierarchy = cv2.findContours(thresh, cv2.RETR_EXTERNAL, cv2.CHAIN_APPROX_NONE)\n",
    "    # find the biggest countour (c) by the area\n",
    "    c = max(contours, key = cv2.contourArea)\n",
    "    x,y,w,h = cv2.boundingRect(c)\n",
    "    # draw the biggest contour (c) in green\n",
    "    cv2.rectangle(output,(x,y),(x+w,y+h),(0,255,0),5)\n",
    "    \n",
    "    #for left nozzle\n",
    "    left=cv2.resize(left,(256, 256))\n",
    "    imgL= np.array(left)/255\n",
    "    XL = image.img_to_array(imgL)\n",
    "    valL= new_model.predict(XL)\n",
    "    \n",
    "    right=cv2.resize(right,(256, 256))\n",
    "    imgR= np.array(right)/255\n",
    "    XR = image.img_to_array(imgR)\n",
    "    valR= new_model.predict(XR)\n",
    "    \n",
    "    if valL==0:\n",
    "        cv2.putText(output, \"Tobacco\", (x+20, y-20),cv2.FONT_HERSHEY_SIMPLEX,1, (0, 0, 255), 3)\n",
    "        Arduino_Serial.write('1') # Activate left nozzle solenoid valve \n",
    "        elif valL==1:\n",
    "            cv2.putText(output, \"Weed\", (x+20, y-20),cv2.FONT_HERSHEY_SIMPLEX,1, (0, 0, 255), 3)\n",
    "            \n",
    "        \n",
    "    \n",
    "    if valR==0:\n",
    "        cv2.putText(output, \"Tobacco\", (x+20, y-20),cv2.FONT_HERSHEY_SIMPLEX,1, (0, 0, 255), 3)\n",
    "        Arduino_Serial.write('2') # Activate right nozzle solenoid valve \n",
    "        elif valR==1:\n",
    "            cv2.putText(output, \"Weed\", (x+20, y-20),cv2.FONT_HERSHEY_SIMPLEX,1, (0, 0, 255), 3)\n",
    "    \n",
    "    \n",
    "\n",
    "    cv2.imshow('output', output)  \n",
    "    cv2.imshow('Video', imgR) \n",
    "    #cv2.imshow('left', left) \n",
    "    #cv2.imshow('right', right) \n",
    "\n",
    "   # Stop if escape key is pressed  \n",
    "    if cv2.waitKey(1) & 0xFF == ord('q'):\n",
    "        break\n",
    "# Release the VideoCapture object \n",
    "\n",
    "video_capture.release()\n",
    "cv2.destroyAllWindows()"
   ]
  },
  {
   "cell_type": "code",
   "execution_count": null,
   "id": "11792046",
   "metadata": {},
   "outputs": [],
   "source": []
  }
 ],
 "metadata": {
  "kernelspec": {
   "display_name": "Python 3",
   "language": "python",
   "name": "python3"
  },
  "language_info": {
   "codemirror_mode": {
    "name": "ipython",
    "version": 3
   },
   "file_extension": ".py",
   "mimetype": "text/x-python",
   "name": "python",
   "nbconvert_exporter": "python",
   "pygments_lexer": "ipython3",
   "version": "3.6.13"
  }
 },
 "nbformat": 4,
 "nbformat_minor": 5
}
